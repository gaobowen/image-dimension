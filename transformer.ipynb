{
  "nbformat": 4,
  "nbformat_minor": 0,
  "metadata": {
    "colab": {
      "provenance": [],
      "mount_file_id": "https://gist.github.com/gaobowen/65eaf7b43c5fbdbdc74599da45a97189#file-transformer-ipynb",
      "authorship_tag": "ABX9TyM6D5WywcHlwmEZtXbyzQsk",
      "include_colab_link": true
    },
    "kernelspec": {
      "name": "python3",
      "display_name": "Python 3"
    },
    "language_info": {
      "name": "python"
    }
  },
  "cells": [
    {
      "cell_type": "markdown",
      "metadata": {
        "id": "view-in-github",
        "colab_type": "text"
      },
      "source": [
        "<a href=\"https://colab.research.google.com/github/gaobowen/image-dimension/blob/master/transformer.ipynb\" target=\"_parent\"><img src=\"https://colab.research.google.com/assets/colab-badge.svg\" alt=\"Open In Colab\"/></a>"
      ]
    },
    {
      "cell_type": "markdown",
      "source": [
        "transformer中英翻译"
      ],
      "metadata": {
        "id": "Zz7OQz_MGrfu"
      }
    },
    {
      "cell_type": "code",
      "source": [
        "!pip install zhtools==0.0.5\n"
      ],
      "metadata": {
        "id": "eTCT0eyKK28n"
      },
      "execution_count": null,
      "outputs": []
    },
    {
      "cell_type": "code",
      "execution_count": null,
      "metadata": {
        "id": "JukhFfyo-49M"
      },
      "outputs": [],
      "source": [
        "import torch\n",
        "import numpy as np\n",
        "import pandas as pd\n",
        "\n"
      ]
    }
  ]
}